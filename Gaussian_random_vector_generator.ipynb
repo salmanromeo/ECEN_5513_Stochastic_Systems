{
  "nbformat": 4,
  "nbformat_minor": 0,
  "metadata": {
    "colab": {
      "provenance": [],
      "authorship_tag": "ABX9TyNUVmOFoB3nGBE3DpFxpbSl",
      "include_colab_link": true
    },
    "kernelspec": {
      "name": "python3",
      "display_name": "Python 3"
    },
    "language_info": {
      "name": "python"
    }
  },
  "cells": [
    {
      "cell_type": "markdown",
      "metadata": {
        "id": "view-in-github",
        "colab_type": "text"
      },
      "source": [
        "<a href=\"https://colab.research.google.com/github/salmanromeo/ECEN_5513_Stochastic_Systems/blob/main/Gaussian_random_vector_generator.ipynb\" target=\"_parent\"><img src=\"https://colab.research.google.com/assets/colab-badge.svg\" alt=\"Open In Colab\"/></a>"
      ]
    },
    {
      "cell_type": "markdown",
      "source": [
        "#####$Y$ is a Gaussian random vector with mean $[1,2,3,4,5]^T$ and covariance $[4,2,2,2,2;2,4,2,2,2;2,2,4,2,2;2,2,2,4,2;2,2,2,2,4]$.\n",
        "\n",
        "#####Write a code to generate a large number of samples of $Y$ and calculate the sample mean and sample covariance. Compare with the true mean and covariance."
      ],
      "metadata": {
        "id": "W4cEae7AK43W"
      }
    },
    {
      "cell_type": "code",
      "execution_count": 1,
      "metadata": {
        "colab": {
          "base_uri": "https://localhost:8080/"
        },
        "id": "Jue-GBpZKcFa",
        "outputId": "610b27c7-df17-40f3-8518-cf2365bb8228"
      },
      "outputs": [
        {
          "output_type": "stream",
          "name": "stdout",
          "text": [
            "True Mean:\n",
            "[1 2 3 4 5]\n",
            "\n",
            "True Covariance Matrix:\n",
            "[[4 2 2 2 2]\n",
            " [2 4 2 2 2]\n",
            " [2 2 4 2 2]\n",
            " [2 2 2 4 2]\n",
            " [2 2 2 2 4]]\n",
            "\n",
            "Sample Mean:\n",
            "[1.01732322 2.02066775 3.01960147 4.01242875 5.01077431]\n",
            "\n",
            "Sample Covariance Matrix:\n",
            "[[4.02871118 1.99522475 2.00244584 2.04084642 1.99342184]\n",
            " [1.99522475 3.94979769 1.96838274 1.98027402 1.97749324]\n",
            " [2.00244584 1.96838274 4.01620543 2.03732188 2.00393085]\n",
            " [2.04084642 1.98027402 2.03732188 4.04955724 2.01344764]\n",
            " [1.99342184 1.97749324 2.00393085 2.01344764 4.05045826]]\n"
          ]
        }
      ],
      "source": [
        "import numpy as np\n",
        "\n",
        "# True mean and covariance matrix\n",
        "true_mean = np.array([1, 2, 3, 4, 5])\n",
        "true_covariance = np.array([[4, 2, 2, 2, 2],\n",
        "                             [2, 4, 2, 2, 2],\n",
        "                             [2, 2, 4, 2, 2],\n",
        "                             [2, 2, 2, 4, 2],\n",
        "                             [2, 2, 2, 2, 4]])\n",
        "\n",
        "# Number of samples to generate\n",
        "num_samples = 10000\n",
        "\n",
        "# Generate samples of Y\n",
        "samples = np.random.multivariate_normal(true_mean, true_covariance, num_samples)\n",
        "\n",
        "# Calculate sample mean and sample covariance\n",
        "sample_mean = np.mean(samples, axis=0)\n",
        "sample_covariance = np.cov(samples, rowvar=False)  # rowvar=False ensures columns are treated as variables\n",
        "\n",
        "# Print the results\n",
        "print(\"True Mean:\")\n",
        "print(true_mean)\n",
        "\n",
        "print(\"\\nTrue Covariance Matrix:\")\n",
        "print(true_covariance)\n",
        "\n",
        "print(\"\\nSample Mean:\")\n",
        "print(sample_mean)\n",
        "\n",
        "print(\"\\nSample Covariance Matrix:\")\n",
        "print(sample_covariance)"
      ]
    }
  ]
}