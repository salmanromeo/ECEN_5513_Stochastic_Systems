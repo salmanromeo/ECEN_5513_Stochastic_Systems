{
  "nbformat": 4,
  "nbformat_minor": 0,
  "metadata": {
    "colab": {
      "provenance": [],
      "authorship_tag": "ABX9TyMvYmhT78RocLLOCve/MFRd",
      "include_colab_link": true
    },
    "kernelspec": {
      "name": "python3",
      "display_name": "Python 3"
    },
    "language_info": {
      "name": "python"
    }
  },
  "cells": [
    {
      "cell_type": "markdown",
      "metadata": {
        "id": "view-in-github",
        "colab_type": "text"
      },
      "source": [
        "<a href=\"https://colab.research.google.com/github/salmanromeo/ECEN_5513_Stochastic_Systems/blob/main/Gaussian_random_vector_generator.ipynb\" target=\"_parent\"><img src=\"https://colab.research.google.com/assets/colab-badge.svg\" alt=\"Open In Colab\"/></a>"
      ]
    },
    {
      "cell_type": "markdown",
      "source": [
        "#####$Y$ is a Gaussian random vector with mean $[1,2,3,4,5]^T$ and covariance $[4,2,2,2,2;2,4,2,2,2;2,2,4,2,2;2,2,2,4,2;2,2,2,2,4]$.\n",
        "\n",
        "#####Write a code to generate a large number of samples of $Y$ and calculate the sample mean and sample covariance. Compare with the true mean and covariance."
      ],
      "metadata": {
        "id": "W4cEae7AK43W"
      }
    },
    {
      "cell_type": "code",
      "source": [
        "import numpy as np\n",
        "\n",
        "# Define the true mean and covariance\n",
        "true_mean = np.array([1, 2, 3, 4, 5])\n",
        "true_covariance = np.array([[4, 2, 2, 2, 2],\n",
        "                             [2, 4, 2, 2, 2],\n",
        "                             [2, 2, 4, 2, 2],\n",
        "                             [2, 2, 2, 4, 2],\n",
        "                             [2, 2, 2, 2, 4]])\n",
        "\n",
        "# Number of samples to generate\n",
        "num_samples = 100000\n",
        "\n",
        "# Generate independent samples from a standard Gaussian distribution\n",
        "independent_samples = np.random.randn(5, num_samples)\n",
        "\n",
        "# Apply linear transformation to get samples following the desired distribution\n",
        "chol_decomposition = np.linalg.cholesky(true_covariance)\n",
        "samples = np.dot(chol_decomposition, independent_samples) + true_mean.reshape(-1, 1)\n",
        "\n",
        "# Calculate sample mean and sample covariance\n",
        "sample_mean = np.mean(samples, axis=1)\n",
        "sample_covariance = np.cov(samples)\n",
        "\n",
        "# Print the results\n",
        "print(\"True Mean:\\n\", true_mean)\n",
        "print(\"Sample Mean:\\n\", sample_mean)\n",
        "print(\"True Covariance:\\n\", true_covariance)\n",
        "print(\"Sample Covariance:\\n\", sample_covariance)"
      ],
      "metadata": {
        "id": "Nw_FdKKP81yk",
        "outputId": "036bc7c3-7bb4-442a-8ab8-19957cc433f9",
        "colab": {
          "base_uri": "https://localhost:8080/"
        }
      },
      "execution_count": 3,
      "outputs": [
        {
          "output_type": "stream",
          "name": "stdout",
          "text": [
            "True Mean:\n",
            " [1 2 3 4 5]\n",
            "Sample Mean:\n",
            " [0.99825499 2.00075602 2.99851958 4.01348339 4.99812093]\n",
            "True Covariance:\n",
            " [[4 2 2 2 2]\n",
            " [2 4 2 2 2]\n",
            " [2 2 4 2 2]\n",
            " [2 2 2 4 2]\n",
            " [2 2 2 2 4]]\n",
            "Sample Covariance:\n",
            " [[4.01384769 2.01664649 2.01956155 2.03050265 2.02160771]\n",
            " [2.01664649 3.99845766 1.99067203 2.00331186 2.00804755]\n",
            " [2.01956155 1.99067203 3.98901837 2.01619342 2.0075958 ]\n",
            " [2.03050265 2.00331186 2.01619342 4.02983101 2.02557168]\n",
            " [2.02160771 2.00804755 2.0075958  2.02557168 4.00757767]]\n"
          ]
        }
      ]
    }
  ]
}