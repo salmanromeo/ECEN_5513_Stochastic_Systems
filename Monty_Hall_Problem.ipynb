{
  "nbformat": 4,
  "nbformat_minor": 0,
  "metadata": {
    "colab": {
      "provenance": [],
      "authorship_tag": "ABX9TyNn4qhAaw3JTJi2WSOztEOI",
      "include_colab_link": true
    },
    "kernelspec": {
      "name": "python3",
      "display_name": "Python 3"
    },
    "language_info": {
      "name": "python"
    }
  },
  "cells": [
    {
      "cell_type": "markdown",
      "metadata": {
        "id": "view-in-github",
        "colab_type": "text"
      },
      "source": [
        "<a href=\"https://colab.research.google.com/github/salmanromeo/ECEN_5513_Stochastic_Systems/blob/main/Monty_Hall_Problem.ipynb\" target=\"_parent\"><img src=\"https://colab.research.google.com/assets/colab-badge.svg\" alt=\"Open In Colab\"/></a>"
      ]
    },
    {
      "cell_type": "code",
      "execution_count": 9,
      "metadata": {
        "colab": {
          "base_uri": "https://localhost:8080/"
        },
        "id": "68DRfDCZbCWZ",
        "outputId": "821e38e2-cd0d-4bc0-afe0-2c53272c7686"
      },
      "outputs": [
        {
          "output_type": "stream",
          "name": "stdout",
          "text": [
            "Monty Hall Problem with 3 doors:\n",
            "Switching win probability: 0.667\n",
            "Not switching win probability: 0.333\n",
            "\n",
            "Monty Hall Problem with 6 doors:\n",
            "Switching win probability: 0.208\n",
            "Not switching win probability: 0.166\n"
          ]
        }
      ],
      "source": [
        "import random\n",
        "\n",
        "def monty_hall_simulation(num_simulations, num_doors):\n",
        "    switch_wins = 0\n",
        "    no_switch_wins = 0\n",
        "\n",
        "    for _ in range(num_simulations):\n",
        "        # Initialize doors: one with a car and the rest with goats\n",
        "        doors = ['goat'] * num_doors\n",
        "        car_index = random.randint(0, num_doors - 1)\n",
        "        doors[car_index] = 'car'\n",
        "\n",
        "        # Contestant's initial choice\n",
        "        initial_choice = random.randint(0, num_doors - 1)\n",
        "\n",
        "        # Monty opens a door with a goat\n",
        "        monty_choices = [i for i in range(num_doors) if i != initial_choice and doors[i] == 'goat']\n",
        "        monty_opens = random.choice(monty_choices)\n",
        "\n",
        "        # Contestant's strategy: switching or not switching\n",
        "        switch_choice = [i for i in range(num_doors) if i != initial_choice and i != monty_opens][0]\n",
        "\n",
        "        # Check if the contestant wins in each scenario\n",
        "        if doors[initial_choice] == 'car':\n",
        "            no_switch_wins += 1\n",
        "        elif doors[switch_choice] == 'car':\n",
        "            switch_wins += 1\n",
        "\n",
        "    return switch_wins / num_simulations, no_switch_wins / num_simulations\n",
        "\n",
        "# Simulate the Monty Hall problem for 3 doors\n",
        "num_simulations = 100000\n",
        "num_doors_3 = 3\n",
        "switch_win_prob_3, no_switch_win_prob_3 = monty_hall_simulation(num_simulations, num_doors_3)\n",
        "\n",
        "# Simulate the Monty Hall problem for 6 doors\n",
        "num_doors_6 = 6\n",
        "switch_win_prob_6, no_switch_win_prob_6 = monty_hall_simulation(num_simulations, num_doors_6)\n",
        "\n",
        "# Print the results\n",
        "print(f\"Monty Hall Problem with 3 doors:\")\n",
        "print(f\"Switching win probability: {switch_win_prob_3:.3f}\")\n",
        "print(f\"Not switching win probability: {no_switch_win_prob_3:.3f}\")\n",
        "\n",
        "print(\"\\nMonty Hall Problem with 6 doors:\")\n",
        "print(f\"Switching win probability: {switch_win_prob_6:.3f}\")\n",
        "print(f\"Not switching win probability: {no_switch_win_prob_6:.3f}\")"
      ]
    }
  ]
}