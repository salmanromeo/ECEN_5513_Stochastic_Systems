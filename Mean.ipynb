{
  "nbformat": 4,
  "nbformat_minor": 0,
  "metadata": {
    "colab": {
      "provenance": [],
      "authorship_tag": "ABX9TyO0cNv5XroVGhrnuDaA7XGS",
      "include_colab_link": true
    },
    "kernelspec": {
      "name": "python3",
      "display_name": "Python 3"
    },
    "language_info": {
      "name": "python"
    }
  },
  "cells": [
    {
      "cell_type": "markdown",
      "metadata": {
        "id": "view-in-github",
        "colab_type": "text"
      },
      "source": [
        "<a href=\"https://colab.research.google.com/github/salmanromeo/ECEN_5513_Stochastic_Systems/blob/main/Mean.ipynb\" target=\"_parent\"><img src=\"https://colab.research.google.com/assets/colab-badge.svg\" alt=\"Open In Colab\"/></a>"
      ]
    },
    {
      "cell_type": "markdown",
      "source": [
        "#####Suppose that there are five drones parked at five marked positions. All drones take off at the same time, fly around and park at the marked positions randomly (i.e., all parking arrangements are equally likely).\n",
        "#####What is the expected number of drones parking at their original position? How about $10$ drones with $10$ positions?\n",
        "#####Conduct both theoretical analysis and simulation to find out the expectation.\n",
        "#####Submit your Matlab or Python code and results.\n",
        "\n",
        "#####Hint: You are asked to find out the expectation only, not the distribution. Let $X_i$ be a Bernoulli random variable. $X_i=1$ represents drone i parks at its original position and $X_i=0$ otherwise. Drone i takes one of the five positions with equal probability. $X_i$ and $X_j$ are not independent for $i\\neq j$. Let $X$ be the number of drones parking at their original position. Then $X=X_1+...+X_5$. Note here $X$ is NOT binomial since $X_1...X_5$ are not independent."
      ],
      "metadata": {
        "id": "4SXaHzxJmHOI"
      }
    },
    {
      "cell_type": "markdown",
      "source": [
        "**Theoretical Analysis**"
      ],
      "metadata": {
        "id": "NDP-d3wom_cG"
      }
    },
    {
      "cell_type": "markdown",
      "source": [
        "**Case 1: 5 Drones with 5 Positions**\n",
        "#####Let $X_1, X_2, X_3, X_4,$ and $X_5$ be the Bernoulli random variables representing the drones. The probability of any individual drone parking at its original position is $1/5$, and therefore, the expected value of each $X_i$ is:\n",
        "$E(X_i) = 1 * (1/5) + 0 * (4/5) = 1/5$\n",
        "#####The expected value of X is given by:\n",
        "$E(X) = E(X_1 + X_2 + X_3 + X_4 + X_5) = E(X_1) + E(X_2) + E(X_3) + E(X_4) + E(X_5) = (1/5) + (1/5) + (1/5) + (1/5) + (1/5) = 5/5 = 1$\n",
        "#####So, for 5 drones, the expected number of drones parking at their original position is $1$.\n",
        "**Case 2: 10 Drones with 10 Positions**\n",
        "#####The probability of any individual drone parking at its original position is $1/10$, and therefore, the expected value of each $X_i$ is:\n",
        "$E(X_i) = 1 * (1/10) + 0 * (9/10) = 1/10$\n",
        "#####The expected value of X is given by:\n",
        "$E(X) = E(X_1 + X_2 + ... + X_10) = E(X_1) + E(X_2) + ... + E(X_10) = (1/10) + (1/10) + ... + (1/10) = 10/10 = 1$\n",
        "#####So, for 10 drones, the expected number of drones parking at their original position is also $1$."
      ],
      "metadata": {
        "id": "QcYiNHRRnEOZ"
      }
    },
    {
      "cell_type": "markdown",
      "source": [
        "**Simulation**"
      ],
      "metadata": {
        "id": "gxlQcQ0ppqdO"
      }
    },
    {
      "cell_type": "code",
      "execution_count": 1,
      "metadata": {
        "colab": {
          "base_uri": "https://localhost:8080/"
        },
        "id": "5hS4pkpFmD5E",
        "outputId": "2abaa66e-9aa9-4ba9-ee2e-835be2219ef2"
      },
      "outputs": [
        {
          "output_type": "stream",
          "name": "stdout",
          "text": [
            "Simulated Expected Value (5 drones): 0.9999\n",
            "Simulated Expected Value (10 drones): 1.0075\n"
          ]
        }
      ],
      "source": [
        "import random\n",
        "\n",
        "def simulate_drones(num_drones, num_positions, num_simulations):\n",
        "    total_parked_at_original_position = 0\n",
        "\n",
        "    for _ in range(num_simulations):\n",
        "        positions = list(range(num_positions))\n",
        "        random.shuffle(positions)\n",
        "        parked_at_original_position = sum(positions[i] == i for i in range(num_drones))\n",
        "        total_parked_at_original_position += parked_at_original_position\n",
        "\n",
        "    expected_value = total_parked_at_original_position / num_simulations\n",
        "    return expected_value\n",
        "\n",
        "num_drones = 5\n",
        "num_positions = 5\n",
        "num_simulations = 100000\n",
        "\n",
        "expected_value = simulate_drones(num_drones, num_positions, num_simulations)\n",
        "print(f\"Simulated Expected Value (5 drones): {expected_value:.4f}\")\n",
        "\n",
        "num_drones = 10\n",
        "num_positions = 10\n",
        "\n",
        "expected_value = simulate_drones(num_drones, num_positions, num_simulations)\n",
        "print(f\"Simulated Expected Value (10 drones): {expected_value:.4f}\")"
      ]
    }
  ]
}